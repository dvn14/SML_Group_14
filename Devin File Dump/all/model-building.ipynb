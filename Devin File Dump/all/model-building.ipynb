{
 "cells": [
  {
   "cell_type": "code",
   "execution_count": 2,
   "metadata": {},
   "outputs": [],
   "source": [
    "import numpy as np\n",
    "import pandas as pd\n",
    "import time\n",
    "from tqdm import tqdm\n",
    "from sklearn.utils import shuffle\n",
    "from sklearn import metrics"
   ]
  },
  {
   "cell_type": "markdown",
   "metadata": {},
   "source": [
    "### Features\n",
    "\n",
    "- **x1** - source → c → sink\n",
    "- **x2** - source → c ← sink\n",
    "- **x3** - source ← c → sink\n",
    "- **x4** - source ← c ← sink\n",
    "- **x5** - common nodes (#c)\n",
    "- **x6** - Number following (Source).\n",
    "- **x7** - Number of followers (Sink)\n",
    "- **x8** - Adamic Adar\n",
    "- **x9** - Jaccard's coeffcient"
   ]
  },
  {
   "cell_type": "markdown",
   "metadata": {},
   "source": [
    "### Load Training Data"
   ]
  },
  {
   "cell_type": "code",
   "execution_count": 6,
   "metadata": {},
   "outputs": [
    {
     "name": "stdout",
     "output_type": "stream",
     "text": [
      "       Unnamed: 0  Unnamed: 0.1  x1  x2  x3  x4  y        x8        HD  \\\n",
      "0               0             0  59   0  57   0  1  5.823572  0.000590   \n",
      "1               1             1   2   2   2   2  1  0.199040  0.002567   \n",
      "2               2             2  19   0  11   0  1  2.325911  0.000999   \n",
      "3               3             3   1   0   1   0  1  0.092985  0.000001   \n",
      "4               4             4   0   0   0   0  1  0.000000  0.000000   \n",
      "...           ...           ...  ..  ..  ..  .. ..       ...       ...   \n",
      "19996       19996         19996  23   0  23   0  1  2.105039  0.001442   \n",
      "19997       19997         19997  69   0  69   0  1  7.528091  0.001964   \n",
      "19998       19998         19998   0   0   0   0  1  0.000000  0.000000   \n",
      "19999       19999         19999  35   0  34   0  1  3.891917  0.000254   \n",
      "20000       20000         20000   0   0   0   0  1  0.000000  0.000000   \n",
      "\n",
      "             ra        x9           LHN        SI        SC        HP  \n",
      "0      0.003815  0.000590  8.310343e-06  0.000590  0.022330  0.845070  \n",
      "1      0.000092  0.001986  1.116258e-05  0.001982  0.004725  0.008696  \n",
      "2      0.016611  0.000998  2.498422e-05  0.000997  0.021788  0.475000  \n",
      "3      0.000021  0.000001  6.556027e-07  0.000001  0.000810  0.500000  \n",
      "4      0.000000  0.000000  0.000000e+00  0.000000  0.000000  0.000000  \n",
      "...         ...       ...           ...       ...       ...       ...  \n",
      "19996  0.000513  0.001440  3.604112e-05  0.001438  0.028791  0.575000  \n",
      "19997  0.020082  0.001960  1.383350e-05  0.001956  0.030895  0.485915  \n",
      "19998  0.000000  0.000000  0.000000e+00  0.000000  0.000000  0.000000  \n",
      "19999  0.009433  0.000254  5.897103e-06  0.000253  0.014367  0.813953  \n",
      "20000  0.000000  0.000000  0.000000e+00  0.000000  0.000000  0.000000  \n",
      "\n",
      "[20001 rows x 15 columns]\n"
     ]
    }
   ],
   "source": [
    "pos_trainData = pd.read_csv('Total_Features/pos_total_ra.xls', sep=',')\n",
    "print(pos_trainData)"
   ]
  },
  {
   "cell_type": "code",
   "execution_count": 7,
   "metadata": {},
   "outputs": [
    {
     "name": "stdout",
     "output_type": "stream",
     "text": [
      "       Unnamed: 0  Unnamed: 0.1  x1  x2  x3  x4  y        x8        x9  \\\n",
      "0               0             0   1   0   1   0  0  0.088650  0.000366   \n",
      "1               1             1   0   0   0   0  0  0.000000  0.000000   \n",
      "2               2             2   0   0   0   0  0  0.000000  0.000000   \n",
      "3               3             3   0   0   0   0  0  0.000000  0.000000   \n",
      "4               4             4   0   0   0   0  0  0.000000  0.000000   \n",
      "...           ...           ...  ..  ..  ..  .. ..       ...       ...   \n",
      "19996       19996         19996   0   0   0   0  0  0.000000  0.000000   \n",
      "19997       19997         19997   0   0   0   0  0  0.000000  0.000000   \n",
      "19998       19998         19998  14   0   9   0  0  1.566421  0.020380   \n",
      "19999       19999         19999   0   0   0   0  0  0.000000  0.000000   \n",
      "20000       20000         20000   0   0   0   0  0  0.000000  0.000000   \n",
      "\n",
      "             ra        HP        SC        SI       LHN        HD  \n",
      "0      0.000013  0.090909  0.005779  0.000366  0.000033  0.000367  \n",
      "1      0.000000  0.000000  0.000000  0.000000  0.000000  0.000000  \n",
      "2      0.000000  0.000000  0.000000  0.000000  0.000000  0.000000  \n",
      "3      0.000000  0.000000  0.000000  0.000000  0.000000  0.000000  \n",
      "4      0.000000  0.000000  0.000000  0.000000  0.000000  0.000000  \n",
      "...         ...       ...       ...       ...       ...       ...  \n",
      "19996  0.000000  0.000000  0.000000  0.000000  0.000000  0.000000  \n",
      "19997  0.000000  0.000000  0.000000  0.000000  0.000000  0.000000  \n",
      "19998  0.001828  0.096774  0.049352  0.019973  0.000162  0.025168  \n",
      "19999  0.000000  0.000000  0.000000  0.000000  0.000000  0.000000  \n",
      "20000  0.000000  0.000000  0.000000  0.000000  0.000000  0.000000  \n",
      "\n",
      "[20001 rows x 15 columns]\n"
     ]
    }
   ],
   "source": [
    "neg_trainData = pd.read_csv('Total_Features/neg_total_ra.xls', sep=',')\n",
    "print(neg_trainData)"
   ]
  },
  {
   "cell_type": "code",
   "execution_count": 8,
   "metadata": {},
   "outputs": [
    {
     "name": "stdout",
     "output_type": "stream",
     "text": [
      "       Unnamed: 0  Unnamed: 0.1  x1  x2  x3  x4  y        x8        HD  \\\n",
      "0               0             0  59   0  57   0  1  5.823572  0.000590   \n",
      "1               1             1   2   2   2   2  1  0.199040  0.002567   \n",
      "2               2             2  19   0  11   0  1  2.325911  0.000999   \n",
      "3               3             3   1   0   1   0  1  0.092985  0.000001   \n",
      "4               4             4   0   0   0   0  1  0.000000  0.000000   \n",
      "...           ...           ...  ..  ..  ..  .. ..       ...       ...   \n",
      "39997       19996         19996   0   0   0   0  0  0.000000  0.000000   \n",
      "39998       19997         19997   0   0   0   0  0  0.000000  0.000000   \n",
      "39999       19998         19998  14   0   9   0  0  1.566421  0.025168   \n",
      "40000       19999         19999   0   0   0   0  0  0.000000  0.000000   \n",
      "40001       20000         20000   0   0   0   0  0  0.000000  0.000000   \n",
      "\n",
      "             ra        x9           LHN        SI        SC        HP  \n",
      "0      0.003815  0.000590  8.310343e-06  0.000590  0.022330  0.845070  \n",
      "1      0.000092  0.001986  1.116258e-05  0.001982  0.004725  0.008696  \n",
      "2      0.016611  0.000998  2.498422e-05  0.000997  0.021788  0.475000  \n",
      "3      0.000021  0.000001  6.556027e-07  0.000001  0.000810  0.500000  \n",
      "4      0.000000  0.000000  0.000000e+00  0.000000  0.000000  0.000000  \n",
      "...         ...       ...           ...       ...       ...       ...  \n",
      "39997  0.000000  0.000000  0.000000e+00  0.000000  0.000000  0.000000  \n",
      "39998  0.000000  0.000000  0.000000e+00  0.000000  0.000000  0.000000  \n",
      "39999  0.001828  0.020380  1.623728e-04  0.019973  0.049352  0.096774  \n",
      "40000  0.000000  0.000000  0.000000e+00  0.000000  0.000000  0.000000  \n",
      "40001  0.000000  0.000000  0.000000e+00  0.000000  0.000000  0.000000  \n",
      "\n",
      "[40002 rows x 15 columns]\n"
     ]
    }
   ],
   "source": [
    "trainData = pd.concat([pos_trainData, neg_trainData], ignore_index=True)\n",
    "print(trainData)"
   ]
  },
  {
   "cell_type": "code",
   "execution_count": 9,
   "metadata": {},
   "outputs": [
    {
     "name": "stdout",
     "output_type": "stream",
     "text": [
      "       Unnamed: 0  Unnamed: 0.1  x1    x2  x3  x4  y          x8        HD  \\\n",
      "0           19112         19112  10     0  10   0  1    0.995184  0.000379   \n",
      "1           19471         19471   0     0   0   0  0    0.000000  0.000000   \n",
      "2            3069          3069   0     0   0   0  0    0.000000  0.000000   \n",
      "3            9703          9703   0     0   0   0  0    0.000000  0.000000   \n",
      "4           11433         11433  64  1825  57  54  1  374.379393  0.412503   \n",
      "...           ...           ...  ..   ...  ..  .. ..         ...       ...   \n",
      "39997       13419         13419   4     0   4   0  1    0.429713  0.000047   \n",
      "39998       17227         17227  81     0  76   0  1    9.246682  0.007901   \n",
      "39999       13104         13104   2     0   2   0  1    0.190345  0.000023   \n",
      "40000        6029          6029   0     0   0   0  0    0.000000  0.000000   \n",
      "40001        9177          9177   0     0   0   0  0    0.000000  0.000000   \n",
      "\n",
      "              ra        x9       LHN        SI        SC        HP  \n",
      "0       0.000606  0.000378  0.000024  0.000378  0.015382  0.625000  \n",
      "1       0.000000  0.000000  0.000000  0.000000  0.000000  0.000000  \n",
      "2       0.000000  0.000000  0.000000  0.000000  0.000000  0.000000  \n",
      "3       0.000000  0.000000  0.000000  0.000000  0.000000  0.000000  \n",
      "4      15.112293  0.286003  0.000108  0.222397  0.446163  0.482569  \n",
      "...          ...       ...       ...       ...       ...       ...  \n",
      "39997   0.000979  0.000047  0.000008  0.000047  0.005571  0.666667  \n",
      "39998   0.017183  0.007857  0.000055  0.007796  0.068125  0.587413  \n",
      "39999   0.000070  0.000023  0.000005  0.000023  0.003023  0.400000  \n",
      "40000   0.000000  0.000000  0.000000  0.000000  0.000000  0.000000  \n",
      "40001   0.000000  0.000000  0.000000  0.000000  0.000000  0.000000  \n",
      "\n",
      "[40002 rows x 15 columns]\n"
     ]
    }
   ],
   "source": [
    "trainData = shuffle(trainData).reset_index(drop=True)\n",
    "print(trainData)"
   ]
  },
  {
   "cell_type": "markdown",
   "metadata": {},
   "source": [
    "### Calculate Measure"
   ]
  },
  {
   "cell_type": "code",
   "execution_count": 10,
   "metadata": {},
   "outputs": [],
   "source": [
    "def calculate_AUC (X_train, X_test, y_train, y_test, clf) :\n",
    "    try :\n",
    "        predict_prob = clf.predict_proba(X_test)[:,1:]\n",
    "        y_pred_train = clf.predict(X_train)[:,1:]\n",
    "        y_pred_test = clf.predict(X_test)[:,1:]\n",
    "    except:\n",
    "        predict_prob = clf.predict(X_test)\n",
    "        y_pred_train = clf.predict(X_train)\n",
    "        y_pred_test = clf.predict(X_test)\n",
    "    \n",
    "    auc = metrics.roc_auc_score(y_test, predict_prob)\n",
    "    try: \n",
    "        acc = metrics.accuracy_score(y_test, predict_prob)\n",
    "    except:\n",
    "        acc = None\n",
    "    \n",
    "    w_sklearn = np.r_[clf.intercept_, clf.coef_.squeeze()]\n",
    "    print(\"Weights: {}\".format(w_sklearn))\n",
    "    print(\"Accuracy: {}\".format(acc))\n",
    "    print(\"ROC AUC: {}\".format(auc))\n",
    "    print('Train MSE:', mean_squared_error(y_pred_train, y_train))\n",
    "    print('Test MSE:', mean_squared_error(y_pred_test, y_test))\n",
    "    return"
   ]
  },
  {
   "cell_type": "code",
   "execution_count": 11,
   "metadata": {},
   "outputs": [],
   "source": [
    "def mean_squared_error(y_true, y_pred):\n",
    "    return np.mean((y_pred - y_true)**2) "
   ]
  },
  {
   "cell_type": "markdown",
   "metadata": {},
   "source": [
    "### Prepare Models"
   ]
  },
  {
   "cell_type": "code",
   "execution_count": 12,
   "metadata": {},
   "outputs": [
    {
     "name": "stdout",
     "output_type": "stream",
     "text": [
      "0        1\n",
      "1        0\n",
      "2        0\n",
      "3        0\n",
      "4        1\n",
      "        ..\n",
      "39997    1\n",
      "39998    1\n",
      "39999    1\n",
      "40000    0\n",
      "40001    0\n",
      "Name: y, Length: 40002, dtype: int64\n"
     ]
    }
   ],
   "source": [
    "y = trainData['y']\n",
    "print(y)"
   ]
  },
  {
   "cell_type": "markdown",
   "metadata": {},
   "source": [
    "### Selecting Different Features"
   ]
  },
  {
   "cell_type": "code",
   "execution_count": 14,
   "metadata": {},
   "outputs": [],
   "source": [
    "from sklearn.model_selection import train_test_split\n",
    "X_9feat = trainData[['x1', 'x2', 'x3', 'x4', 'x8', 'x9', 'SI', 'SC', 'HP']]\n",
    "X_6feat_final = trainData[['x1', 'x2', 'x3', 'x4', 'x8', 'ra']]\n",
    "X_common_JC_ad = trainData[['x1', 'x2', 'x3', 'x4', 'x8', 'x9']]\n",
    "X_3feat = trainData[['x8', 'x9', 'ra']]\n",
    "X = X_6feat_final"
   ]
  },
  {
   "cell_type": "markdown",
   "metadata": {},
   "source": [
    "### Initial Tests - Logistic Regression, Linear Regression, Ridge Regression"
   ]
  },
  {
   "cell_type": "code",
   "execution_count": 15,
   "metadata": {},
   "outputs": [
    {
     "name": "stdout",
     "output_type": "stream",
     "text": [
      "Training set has 32001 instances. Test set has 8001 instances.\n",
      "\n",
      "------Logistic Regression------\n",
      "Weights: [-1.21463659  0.16701439 -1.25900842 -0.37111649  0.41500732  8.98760229\n",
      " -0.44783611]\n",
      "Accuracy: 0.842644669416323\n",
      "ROC AUC: 0.8418250809203044\n",
      "Train MSE: 0.16227617886941034\n",
      "Test MSE: 0.15735533058367704\n",
      "\n",
      "-------Linear Regression-------\n",
      "Weights: [ 4.19384814e-01  3.74816549e-03 -8.25172831e-05  2.96638818e-03\n",
      " -1.79644486e-03 -1.74269086e-04  1.08642948e-03]\n",
      "Accuracy: None\n",
      "ROC AUC: 0.8686967456915407\n",
      "Train MSE: 0.21008064412897506\n",
      "Test MSE: 0.21139588269244167\n",
      "\n",
      "--------Ridge Regression-------\n",
      "Weights: [ 4.19384815e-01  3.74816694e-03 -8.25201923e-05  2.96638496e-03\n",
      " -1.79644151e-03 -1.74253531e-04  1.08638543e-03]\n",
      "Accuracy: None\n",
      "ROC AUC: 0.8686967456915407\n",
      "Train MSE: 0.21008064412896224\n",
      "Test MSE: 0.21139588246922839\n"
     ]
    }
   ],
   "source": [
    "from sklearn import linear_model\n",
    "from sklearn.linear_model import LogisticRegression\n",
    "from sklearn.linear_model import LinearRegression\n",
    "\n",
    "X_train, X_test, y_train, y_test = train_test_split(X, y, test_size=0.2, random_state=90051)\n",
    "print(\"Training set has {} instances. Test set has {} instances.\".format(X_train.shape[0], X_test.shape[0]))\n",
    "\n",
    "print('\\n------Logistic Regression------')\n",
    "model = LogisticRegression()\n",
    "model.fit(X_train, y_train)\n",
    "calculate_AUC(X_train, X_test, y_train, y_test, model)\n",
    "\n",
    "print('\\n-------Linear Regression-------')\n",
    "lr = LinearRegression()\n",
    "lr.fit(X_train, y_train)\n",
    "calculate_AUC(X_train, X_test, y_train, y_test, lr)\n",
    "\n",
    "print('\\n--------Ridge Regression-------')\n",
    "rr = linear_model.Ridge(alpha=.5)\n",
    "rr.fit(X_train, y_train)\n",
    "calculate_AUC(X_train, X_test, y_train, y_test, rr)"
   ]
  },
  {
   "cell_type": "markdown",
   "metadata": {},
   "source": [
    "### Random Forest"
   ]
  },
  {
   "cell_type": "code",
   "execution_count": 16,
   "metadata": {},
   "outputs": [
    {
     "name": "stdout",
     "output_type": "stream",
     "text": [
      "[0.11244849 0.00138874 0.1291978  0.         0.39080046 0.36616451]\n",
      "Accuracy: 0.8532683414573178\n",
      "AUC: 0.8722109051826487\n",
      "Train MSE: 0.14821411830880285\n",
      "Test MSE: 0.14673165854268216\n"
     ]
    }
   ],
   "source": [
    "from sklearn.ensemble import RandomForestClassifier\n",
    "\n",
    "rand_forest = RandomForestClassifier(max_depth=2, max_leaf_nodes=10, min_samples_leaf=5, min_samples_split=5, n_estimators=50, n_jobs=4, \n",
    "                                     random_state=90051)\n",
    "rand_forest.fit(X_train, y_train)\n",
    "#(max_depth=2, max_leaf_nodes=10, min_samples_leaf=5, min_samples_split=5, n_estimators=50, n_jobs=4, random_state=90051)\n",
    "\n",
    "predict_prob = rand_forest.predict_proba(X_test)[:,1:]\n",
    "y_pred_train = rand_forest.predict(X_train)\n",
    "y_pred_test = rand_forest.predict(X_test)\n",
    "\n",
    "print(rand_forest.feature_importances_)\n",
    "print(\"Accuracy: {}\".format(metrics.accuracy_score(y_test, y_pred_test)))\n",
    "print(\"AUC: {}\".format(metrics.roc_auc_score(y_test, predict_prob)))\n",
    "print('Train MSE:', mean_squared_error(y_pred_train, y_train))\n",
    "print('Test MSE:', mean_squared_error(y_pred_test, y_test))\n",
    "#RandomForestClassifier(n_estimators=100, *, max_depth=None, min_samples_split=2, min_samples_leaf=1, max_leaf_nodes=None,  n_jobs=None)"
   ]
  },
  {
   "cell_type": "markdown",
   "metadata": {},
   "source": [
    "### SVM"
   ]
  },
  {
   "cell_type": "code",
   "execution_count": 17,
   "metadata": {},
   "outputs": [
    {
     "name": "stdout",
     "output_type": "stream",
     "text": [
      "[   20    23    32 ... 31973 31990 32000]\n",
      "Accuracy: 0.8086489188851393\n",
      "AUC: 0.8714112313633353\n",
      "Train MSE: 0.2020874347676635\n",
      "Test MSE: 0.19135108111486065\n"
     ]
    }
   ],
   "source": [
    "from sklearn import svm\n",
    "\n",
    "sup_vm = svm.SVC(probability = True)\n",
    "sup_vm.fit(X_train, y_train)\n",
    "\n",
    "predict_prob = sup_vm.predict_proba(X_test)[:,1:]\n",
    "y_pred_train = sup_vm.predict(X_train)\n",
    "y_pred_test = sup_vm.predict(X_test)\n",
    "\n",
    "print(sup_vm.support_)\n",
    "print(\"Accuracy: {}\".format(metrics.accuracy_score(y_test, y_pred_test)))\n",
    "print(\"AUC: {}\".format(metrics.roc_auc_score(y_test, predict_prob)))\n",
    "print('Train MSE:', mean_squared_error(y_pred_train, y_train))\n",
    "print('Test MSE:', mean_squared_error(y_pred_test, y_test))"
   ]
  },
  {
   "cell_type": "markdown",
   "metadata": {},
   "source": [
    "### Load Testing Data"
   ]
  },
  {
   "cell_type": "code",
   "execution_count": 18,
   "metadata": {},
   "outputs": [
    {
     "name": "stdout",
     "output_type": "stream",
     "text": [
      "      x1  x2  x3  x4        x8        x9\n",
      "0      0   0   0   0  0.000000  0.000000\n",
      "1      0   0   0   0  0.000000  0.000000\n",
      "2      2   0   2   0  0.459422  0.011152\n",
      "3      2   0   2   0  0.178376  0.003670\n",
      "4      0   0   0   0  0.000000  0.000000\n",
      "...   ..  ..  ..  ..       ...       ...\n",
      "1995   0   0   0   0  0.000000  0.000000\n",
      "1996   0   0   1   0  0.100383  0.006061\n",
      "1997   0   0   0   0  0.000000  0.000000\n",
      "1998   0   0   0   0  0.000000  0.000000\n",
      "1999   0   0   0   0  0.000000  0.000000\n",
      "\n",
      "[2000 rows x 6 columns]\n",
      "(2000, 6)\n"
     ]
    }
   ],
   "source": [
    "testData = pd.read_csv('Total_Features/Test_Total_Feature.csv', sep=',')\n",
    "testData = testData[['x1', 'x2', 'x3', 'x4', 'x8', 'x9']]\n",
    "print(testData)\n",
    "print(testData.shape)"
   ]
  },
  {
   "cell_type": "markdown",
   "metadata": {},
   "source": [
    "### Prediction On Test Data"
   ]
  },
  {
   "cell_type": "code",
   "execution_count": 19,
   "metadata": {},
   "outputs": [
    {
     "data": {
      "text/plain": [
       "SVC(C=1.0, break_ties=False, cache_size=200, class_weight=None, coef0=0.0,\n",
       "    decision_function_shape='ovr', degree=3, gamma='scale', kernel='linear',\n",
       "    max_iter=-1, probability=True, random_state=None, shrinking=True, tol=0.001,\n",
       "    verbose=False)"
      ]
     },
     "execution_count": 19,
     "metadata": {},
     "output_type": "execute_result"
    }
   ],
   "source": [
    "# model = LogisticRegression()\n",
    "# model.fit(X, y)\n",
    "\n",
    "\n",
    "sup_vm = svm.SVC(probability = True, kernel = 'linear')\n",
    "sup_vm.fit(X, y)"
   ]
  },
  {
   "cell_type": "code",
   "execution_count": 20,
   "metadata": {},
   "outputs": [
    {
     "data": {
      "text/plain": [
       "<bound method NDFrame.head of         Id  Predicted\n",
       "0        1   0.228602\n",
       "1        2   0.228602\n",
       "2        3   0.959786\n",
       "3        4   0.453445\n",
       "4        5   0.228602\n",
       "...    ...        ...\n",
       "1995  1996   0.228602\n",
       "1996  1997   0.328080\n",
       "1997  1998   0.228602\n",
       "1998  1999   0.228602\n",
       "1999  2000   0.228602\n",
       "\n",
       "[2000 rows x 2 columns]>"
      ]
     },
     "execution_count": 20,
     "metadata": {},
     "output_type": "execute_result"
    }
   ],
   "source": [
    "X_new = testData\n",
    "##### change below with appropriate model\n",
    "y_new = sup_vm.predict_proba(X_new)[:,1:]\n",
    "\n",
    "output = pd.DataFrame({'Id': testData.index+1, 'Predicted': y_new.flatten()})\n",
    "output.head"
   ]
  },
  {
   "cell_type": "code",
   "execution_count": 18,
   "metadata": {},
   "outputs": [],
   "source": [
    "output.to_csv('output.csv', sep=\",\", index=False, header=True)"
   ]
  }
 ],
 "metadata": {
  "kernelspec": {
   "display_name": "Python 3",
   "language": "python",
   "name": "python3"
  },
  "language_info": {
   "codemirror_mode": {
    "name": "ipython",
    "version": 3
   },
   "file_extension": ".py",
   "mimetype": "text/x-python",
   "name": "python",
   "nbconvert_exporter": "python",
   "pygments_lexer": "ipython3",
   "version": "3.7.7"
  }
 },
 "nbformat": 4,
 "nbformat_minor": 4
}
