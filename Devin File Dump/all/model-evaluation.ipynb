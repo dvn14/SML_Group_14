{
 "cells": [
  {
   "cell_type": "code",
   "execution_count": 1,
   "metadata": {},
   "outputs": [],
   "source": [
    "import numpy as np\n",
    "import pandas as pd\n",
    "import time\n",
    "from tqdm import tqdm\n",
    "from sklearn.utils import shuffle\n",
    "from sklearn import metrics"
   ]
  },
  {
   "cell_type": "markdown",
   "metadata": {},
   "source": [
    "### Features\n",
    "\n",
    "- **x1** - source → c → sink\n",
    "- **x2** - source → c ← sink\n",
    "- **x3** - source ← c → sink\n",
    "- **x4** - source ← c ← sink\n",
    "- **x5** - common nodes (#c)\n",
    "- **x6** - Number following (Source).\n",
    "- **x7** - Number of followers (Sink)\n",
    "- **x8** - Adamic Adar\n",
    "- **x9** - Jaccard's coeffcient"
   ]
  },
  {
   "cell_type": "markdown",
   "metadata": {},
   "source": [
    "### Load Training Data"
   ]
  },
  {
   "cell_type": "code",
   "execution_count": 5,
   "metadata": {},
   "outputs": [
    {
     "name": "stdout",
     "output_type": "stream",
     "text": [
      "       Unnamed: 0  Unnamed: 0.1  x1  x2  x3  x4  y        x8        HD  \\\n",
      "0               0             0  59   0  57   0  1  5.823572  0.000590   \n",
      "1               1             1   2   2   2   2  1  0.199040  0.002567   \n",
      "2               2             2  19   0  11   0  1  2.325911  0.000999   \n",
      "3               3             3   1   0   1   0  1  0.092985  0.000001   \n",
      "4               4             4   0   0   0   0  1  0.000000  0.000000   \n",
      "...           ...           ...  ..  ..  ..  .. ..       ...       ...   \n",
      "19996       19996         19996  23   0  23   0  1  2.105039  0.001442   \n",
      "19997       19997         19997  69   0  69   0  1  7.528091  0.001964   \n",
      "19998       19998         19998   0   0   0   0  1  0.000000  0.000000   \n",
      "19999       19999         19999  35   0  34   0  1  3.891917  0.000254   \n",
      "20000       20000         20000   0   0   0   0  1  0.000000  0.000000   \n",
      "\n",
      "             ra        x9           LHN        SI        SC        HP  \n",
      "0      0.003815  0.000590  8.310343e-06  0.000590  0.022330  0.845070  \n",
      "1      0.000092  0.001986  1.116258e-05  0.001982  0.004725  0.008696  \n",
      "2      0.016611  0.000998  2.498422e-05  0.000997  0.021788  0.475000  \n",
      "3      0.000021  0.000001  6.556027e-07  0.000001  0.000810  0.500000  \n",
      "4      0.000000  0.000000  0.000000e+00  0.000000  0.000000  0.000000  \n",
      "...         ...       ...           ...       ...       ...       ...  \n",
      "19996  0.000513  0.001440  3.604112e-05  0.001438  0.028791  0.575000  \n",
      "19997  0.020082  0.001960  1.383350e-05  0.001956  0.030895  0.485915  \n",
      "19998  0.000000  0.000000  0.000000e+00  0.000000  0.000000  0.000000  \n",
      "19999  0.009433  0.000254  5.897103e-06  0.000253  0.014367  0.813953  \n",
      "20000  0.000000  0.000000  0.000000e+00  0.000000  0.000000  0.000000  \n",
      "\n",
      "[20001 rows x 15 columns]\n"
     ]
    }
   ],
   "source": [
    "pos_trainData = pd.read_csv('Total_Features/pos_total_ra.xls')\n",
    "print(pos_trainData)"
   ]
  },
  {
   "cell_type": "code",
   "execution_count": 7,
   "metadata": {},
   "outputs": [
    {
     "name": "stdout",
     "output_type": "stream",
     "text": [
      "       Unnamed: 0  Unnamed: 0.1  x1  x2  x3  x4  y        x8        x9  \\\n",
      "0               0             0   1   0   1   0  0  0.088650  0.000366   \n",
      "1               1             1   0   0   0   0  0  0.000000  0.000000   \n",
      "2               2             2   0   0   0   0  0  0.000000  0.000000   \n",
      "3               3             3   0   0   0   0  0  0.000000  0.000000   \n",
      "4               4             4   0   0   0   0  0  0.000000  0.000000   \n",
      "...           ...           ...  ..  ..  ..  .. ..       ...       ...   \n",
      "19996       19996         19996   0   0   0   0  0  0.000000  0.000000   \n",
      "19997       19997         19997   0   0   0   0  0  0.000000  0.000000   \n",
      "19998       19998         19998  14   0   9   0  0  1.566421  0.020380   \n",
      "19999       19999         19999   0   0   0   0  0  0.000000  0.000000   \n",
      "20000       20000         20000   0   0   0   0  0  0.000000  0.000000   \n",
      "\n",
      "             ra        HP        SC        SI       LHN        HD  \n",
      "0      0.000013  0.090909  0.005779  0.000366  0.000033  0.000367  \n",
      "1      0.000000  0.000000  0.000000  0.000000  0.000000  0.000000  \n",
      "2      0.000000  0.000000  0.000000  0.000000  0.000000  0.000000  \n",
      "3      0.000000  0.000000  0.000000  0.000000  0.000000  0.000000  \n",
      "4      0.000000  0.000000  0.000000  0.000000  0.000000  0.000000  \n",
      "...         ...       ...       ...       ...       ...       ...  \n",
      "19996  0.000000  0.000000  0.000000  0.000000  0.000000  0.000000  \n",
      "19997  0.000000  0.000000  0.000000  0.000000  0.000000  0.000000  \n",
      "19998  0.001828  0.096774  0.049352  0.019973  0.000162  0.025168  \n",
      "19999  0.000000  0.000000  0.000000  0.000000  0.000000  0.000000  \n",
      "20000  0.000000  0.000000  0.000000  0.000000  0.000000  0.000000  \n",
      "\n",
      "[20001 rows x 15 columns]\n"
     ]
    }
   ],
   "source": [
    "neg_trainData = pd.read_csv('Total_Features/neg_total_ra.xls')\n",
    "print(neg_trainData)"
   ]
  },
  {
   "cell_type": "code",
   "execution_count": 8,
   "metadata": {},
   "outputs": [
    {
     "name": "stdout",
     "output_type": "stream",
     "text": [
      "       Unnamed: 0  Unnamed: 0.1  x1  x2  x3  x4  y        x8        HD  \\\n",
      "0               0             0  59   0  57   0  1  5.823572  0.000590   \n",
      "1               1             1   2   2   2   2  1  0.199040  0.002567   \n",
      "2               2             2  19   0  11   0  1  2.325911  0.000999   \n",
      "3               3             3   1   0   1   0  1  0.092985  0.000001   \n",
      "4               4             4   0   0   0   0  1  0.000000  0.000000   \n",
      "...           ...           ...  ..  ..  ..  .. ..       ...       ...   \n",
      "39997       19996         19996   0   0   0   0  0  0.000000  0.000000   \n",
      "39998       19997         19997   0   0   0   0  0  0.000000  0.000000   \n",
      "39999       19998         19998  14   0   9   0  0  1.566421  0.025168   \n",
      "40000       19999         19999   0   0   0   0  0  0.000000  0.000000   \n",
      "40001       20000         20000   0   0   0   0  0  0.000000  0.000000   \n",
      "\n",
      "             ra        x9           LHN        SI        SC        HP  \n",
      "0      0.003815  0.000590  8.310343e-06  0.000590  0.022330  0.845070  \n",
      "1      0.000092  0.001986  1.116258e-05  0.001982  0.004725  0.008696  \n",
      "2      0.016611  0.000998  2.498422e-05  0.000997  0.021788  0.475000  \n",
      "3      0.000021  0.000001  6.556027e-07  0.000001  0.000810  0.500000  \n",
      "4      0.000000  0.000000  0.000000e+00  0.000000  0.000000  0.000000  \n",
      "...         ...       ...           ...       ...       ...       ...  \n",
      "39997  0.000000  0.000000  0.000000e+00  0.000000  0.000000  0.000000  \n",
      "39998  0.000000  0.000000  0.000000e+00  0.000000  0.000000  0.000000  \n",
      "39999  0.001828  0.020380  1.623728e-04  0.019973  0.049352  0.096774  \n",
      "40000  0.000000  0.000000  0.000000e+00  0.000000  0.000000  0.000000  \n",
      "40001  0.000000  0.000000  0.000000e+00  0.000000  0.000000  0.000000  \n",
      "\n",
      "[40002 rows x 15 columns]\n"
     ]
    }
   ],
   "source": [
    "trainData = pd.concat([pos_trainData, neg_trainData], ignore_index=True)\n",
    "print(trainData)"
   ]
  },
  {
   "cell_type": "code",
   "execution_count": 10,
   "metadata": {},
   "outputs": [
    {
     "name": "stdout",
     "output_type": "stream",
     "text": [
      "       Unnamed: 0  Unnamed: 0.1  x1  x2   x3  x4  y         x8        HD  \\\n",
      "0           17207         17207   0   0    0   0  1   0.000000  0.000000   \n",
      "1           13319         13319  30   0   30   0  1   2.792255  0.000335   \n",
      "2           11882         11882   9   0    9   0  1   0.791686  0.000131   \n",
      "3            3117          3117  58   0   56   0  1   5.803111  0.012748   \n",
      "4           19015         19015   0   0    0   0  0   0.000000  0.000000   \n",
      "...           ...           ...  ..  ..  ...  .. ..        ...       ...   \n",
      "39997       11438         11438   1   0    0   0  0   0.087614  0.002242   \n",
      "39998       10809         10809   8   0    8   0  1   0.892251  0.000321   \n",
      "39999       11501         11501  12   0   11   0  1   1.385755  0.000155   \n",
      "40000       11157         11157  67  47  207  43  1  30.375041  0.165791   \n",
      "40001       12514         12514   0   0    0   0  0   0.000000  0.000000   \n",
      "\n",
      "             ra        x9       LHN        SI        SC        HP  \n",
      "0      0.000000  0.000000  0.000000  0.000000  0.000000  0.000000  \n",
      "1      0.001226  0.000335  0.000010  0.000335  0.017200  0.882353  \n",
      "2      0.000106  0.000131  0.000011  0.000131  0.009905  0.750000  \n",
      "3      0.003468  0.012292  0.000055  0.012142  0.057062  0.255411  \n",
      "4      0.000000  0.000000  0.000000  0.000000  0.000000  0.000000  \n",
      "...         ...       ...       ...       ...       ...       ...  \n",
      "39997  0.000011  0.002203  0.000249  0.002198  0.015784  0.111111  \n",
      "39998  0.001479  0.000321  0.000014  0.000321  0.010568  0.347826  \n",
      "39999  0.004132  0.000155  0.000005  0.000155  0.008011  0.413793  \n",
      "40000  0.217471  0.137352  0.000334  0.120765  0.271518  0.444668  \n",
      "40001  0.000000  0.000000  0.000000  0.000000  0.000000  0.000000  \n",
      "\n",
      "[40002 rows x 15 columns]\n"
     ]
    }
   ],
   "source": [
    "trainData = shuffle(trainData).reset_index(drop=True)\n",
    "print(trainData)"
   ]
  },
  {
   "cell_type": "markdown",
   "metadata": {},
   "source": [
    "### Calculate Measure"
   ]
  },
  {
   "cell_type": "code",
   "execution_count": 11,
   "metadata": {},
   "outputs": [],
   "source": [
    "def calculate_AUC (X_train, X_test, y_train, y_test, clf) :\n",
    "    try :\n",
    "        predict_prob = clf.predict_proba(X_test)[:,1:]\n",
    "        y_pred_train = clf.predict(X_train)[:,1:]\n",
    "        y_pred_test = clf.predict(X_test)[:,1:]\n",
    "    except:\n",
    "        predict_prob = clf.predict(X_test)\n",
    "        y_pred_train = clf.predict(X_train)\n",
    "        y_pred_test = clf.predict(X_test)\n",
    "    \n",
    "    auc = metrics.roc_auc_score(y_test, predict_prob)\n",
    "    try: \n",
    "        acc = metrics.accuracy_score(y_test, predict_prob)\n",
    "    except:\n",
    "        acc = None\n",
    "    \n",
    "    w_sklearn = np.r_[clf.intercept_, clf.coef_.squeeze()]\n",
    "    print(\"Weights: {}\".format(w_sklearn))\n",
    "    print(\"Accuracy: {}\".format(acc))\n",
    "    print(\"ROC AUC: {}\".format(auc))\n",
    "    print('Train MSE:', mean_squared_error(y_pred_train, y_train))\n",
    "    print('Test MSE:', mean_squared_error(y_pred_test, y_test))\n",
    "    return"
   ]
  },
  {
   "cell_type": "code",
   "execution_count": 12,
   "metadata": {},
   "outputs": [],
   "source": [
    "def mean_squared_error(y_true, y_pred):\n",
    "    return np.mean((y_pred - y_true)**2) "
   ]
  },
  {
   "cell_type": "markdown",
   "metadata": {},
   "source": [
    "### Prepare Models"
   ]
  },
  {
   "cell_type": "code",
   "execution_count": 13,
   "metadata": {},
   "outputs": [
    {
     "name": "stdout",
     "output_type": "stream",
     "text": [
      "0        1\n",
      "1        1\n",
      "2        1\n",
      "3        1\n",
      "4        0\n",
      "        ..\n",
      "39997    0\n",
      "39998    1\n",
      "39999    1\n",
      "40000    1\n",
      "40001    0\n",
      "Name: y, Length: 40002, dtype: int64\n"
     ]
    }
   ],
   "source": [
    "y = trainData['y']\n",
    "print(y)"
   ]
  },
  {
   "cell_type": "markdown",
   "metadata": {},
   "source": [
    "### Selecting Different Features"
   ]
  },
  {
   "cell_type": "code",
   "execution_count": 26,
   "metadata": {},
   "outputs": [],
   "source": [
    "from sklearn.model_selection import train_test_split\n",
    "X_9feat = trainData[['x1', 'x2', 'x3', 'x4', 'x8', 'x9', 'SI', 'SC', 'HP']]\n",
    "X_6feat_final = trainData[['x1', 'x2', 'x3', 'x4', 'x8', 'ra']]\n",
    "X_common_JC_ad = trainData[['x1', 'x2', 'x3', 'x4', 'x8', 'x9']]\n",
    "X_3feat = trainData[['x8', 'x9', 'ra']]\n",
    "X = X_6feat_final"
   ]
  },
  {
   "cell_type": "markdown",
   "metadata": {},
   "source": [
    "### Initial Tests"
   ]
  },
  {
   "cell_type": "code",
   "execution_count": 16,
   "metadata": {},
   "outputs": [
    {
     "name": "stdout",
     "output_type": "stream",
     "text": [
      "Training set has 32001 instances. Test set has 8001 instances.\n",
      "\n",
      "------Logistic Regression------\n",
      "Weights: [-1.20721851  0.11580326 -1.26353888 -0.38439932  0.50649421  9.13202787\n",
      " -0.43306146]\n",
      "Accuracy: 0.8360204974378203\n",
      "ROC AUC: 0.8341702158241909\n",
      "Train MSE: 0.16343239273772694\n",
      "Test MSE: 0.16397950256217972\n",
      "\n",
      "-------Linear Regression-------\n",
      "Weights: [ 4.21853703e-01  4.13255967e-03 -7.63562050e-05  2.31638013e-03\n",
      " -1.49057107e-03 -2.66502070e-04  1.75262831e-03]\n",
      "Accuracy: None\n",
      "ROC AUC: 0.8659383055910559\n",
      "Train MSE: 0.2109752434851763\n",
      "Test MSE: 0.20771365511620787\n",
      "\n",
      "--------Ridge Regression-------\n",
      "Weights: [ 4.21853704e-01  4.13256138e-03 -7.63602876e-05  2.31637598e-03\n",
      " -1.49056647e-03 -2.66480157e-04  1.75256574e-03]\n",
      "Accuracy: None\n",
      "ROC AUC: 0.8659383055910559\n",
      "Train MSE: 0.2109752434852292\n",
      "Test MSE: 0.20771365495954186\n"
     ]
    }
   ],
   "source": [
    "from sklearn import linear_model\n",
    "from sklearn.linear_model import LogisticRegression\n",
    "from sklearn.linear_model import LinearRegression\n",
    "\n",
    "X_train, X_test, y_train, y_test = train_test_split(X, y, test_size=0.2, random_state=90051)\n",
    "print(\"Training set has {} instances. Test set has {} instances.\".format(X_train.shape[0], X_test.shape[0]))\n",
    "\n",
    "print('\\n------Logistic Regression------')\n",
    "model = LogisticRegression()\n",
    "model.fit(X_train, y_train)\n",
    "calculate_AUC(X_train, X_test, y_train, y_test, model)\n",
    "\n",
    "print('\\n-------Linear Regression-------')\n",
    "lr = LinearRegression()\n",
    "lr.fit(X_train, y_train)\n",
    "calculate_AUC(X_train, X_test, y_train, y_test, lr)\n",
    "\n",
    "print('\\n--------Ridge Regression-------')\n",
    "rr = linear_model.Ridge(alpha=.5)\n",
    "rr.fit(X_train, y_train)\n",
    "calculate_AUC(X_train, X_test, y_train, y_test, rr)"
   ]
  },
  {
   "cell_type": "markdown",
   "metadata": {},
   "source": [
    "### Performce Stats: Different Models"
   ]
  },
  {
   "cell_type": "code",
   "execution_count": 17,
   "metadata": {},
   "outputs": [],
   "source": [
    "from sklearn.model_selection import cross_validate\n",
    "\n",
    "def average (list_num) :\n",
    "    return sum(list_num)/len(list_num)\n",
    "\n",
    "def stats_classification (model, X) :\n",
    "    scoring = ['accuracy', 'roc_auc', 'precision_macro', 'recall_macro', 'f1_macro', 'neg_mean_squared_error']\n",
    "    scores = cross_validate(model, X, y, scoring=scoring, cv=10)\n",
    "    accuracy = 100*average(scores['test_accuracy'])\n",
    "    auc = 100*average(scores['test_roc_auc'])\n",
    "    precision = 100*average(scores['test_precision_macro'])\n",
    "    recall = 100*average(scores['test_recall_macro'])\n",
    "    f1 = 100*average(scores['test_f1_macro'])\n",
    "    mse = -1*average(scores['test_neg_mean_squared_error'])\n",
    "    \n",
    "    return [accuracy, auc, precision, recall, f1, mse]\n",
    "\n",
    "def stats_regression (model, X) :\n",
    "    scoring = ['roc_auc', 'neg_mean_squared_error']\n",
    "    scores = cross_validate(model, X, y, scoring=scoring, cv=10)\n",
    "    auc = 100*average(scores['test_roc_auc'])\n",
    "    mse = -1*average(scores['test_neg_mean_squared_error'])\n",
    "    \n",
    "    return [0, auc, 0, 0, 0, mse]"
   ]
  },
  {
   "cell_type": "code",
   "execution_count": 18,
   "metadata": {},
   "outputs": [],
   "source": [
    "from sklearn.ensemble import RandomForestClassifier\n",
    "from sklearn import svm\n",
    "\n",
    "model_1 = LogisticRegression()\n",
    "model_5 = LogisticRegression(penalty = 'none')\n",
    "model_2 = RandomForestClassifier(random_state=90051)\n",
    "model_3 = svm.SVC(kernel = 'linear')\n",
    "model_4 = LinearRegression()\n",
    "\n",
    "model_list = [model_3, model_1, model_2, model_4]\n",
    "model_name = ['SVM', 'Logistic Regression', 'Random Forest', 'Linear Regression']\n",
    "performance = [['Model', 'Accuracy', 'ROC AUC', 'Precision Macro', 'Recall Macro', 'F1 Macro', 'MSE']]\n",
    "\n",
    "for i, model in enumerate(model_list) :\n",
    "    try :\n",
    "        new_list = stats_classification(model, X)\n",
    "    except :\n",
    "        new_list = stats_regression(model, X)\n",
    "    new_list.insert(0, model_name[i])\n",
    "    performance.append(new_list)"
   ]
  },
  {
   "cell_type": "code",
   "execution_count": 19,
   "metadata": {},
   "outputs": [
    {
     "name": "stdout",
     "output_type": "stream",
     "text": [
      "                     0         1        2                3             4  \\\n",
      "0                Model  Accuracy  ROC AUC  Precision Macro  Recall Macro   \n",
      "1                  SVM   83.8633  87.2654          86.5014       83.8633   \n",
      "2  Logistic Regression   83.7583  87.2882          86.6532       83.7583   \n",
      "3        Random Forest   85.2707   87.251          86.9254       85.2707   \n",
      "4    Linear Regression         0  86.9851                0             0   \n",
      "\n",
      "          5         6  \n",
      "0  F1 Macro       MSE  \n",
      "1   83.5663  0.161367  \n",
      "2    83.431  0.162417  \n",
      "3   85.1036  0.147293  \n",
      "4         0    0.2106  \n"
     ]
    }
   ],
   "source": [
    "performance_df = pd.DataFrame(performance)\n",
    "\n",
    "print(performance_df)"
   ]
  },
  {
   "cell_type": "code",
   "execution_count": 20,
   "metadata": {},
   "outputs": [
    {
     "name": "stdout",
     "output_type": "stream",
     "text": [
      "                     0         1        2                3             4  \\\n",
      "0                Model  Accuracy  ROC AUC  Precision Macro  Recall Macro   \n",
      "1                  SVM   83.8633  87.2654          86.5014       83.8633   \n",
      "2  Logistic Regression   83.7583  87.2882          86.6532       83.7583   \n",
      "3        Random Forest   85.2707   87.251          86.9254       85.2707   \n",
      "4    Linear Regression         0  86.9851                0             0   \n",
      "\n",
      "          5         6  \n",
      "0  F1 Macro       MSE  \n",
      "1   83.5663  0.161367  \n",
      "2    83.431  0.162417  \n",
      "3   85.1036  0.147293  \n",
      "4         0    0.2106  \n"
     ]
    }
   ],
   "source": [
    "performance_df = performance_df\n",
    "print(performance_df)\n",
    "performance_df.to_csv('model-performance.csv', sep=\",\", index=False, header=True)"
   ]
  },
  {
   "cell_type": "markdown",
   "metadata": {},
   "source": [
    "### Performce Stats: Different Features on SVM"
   ]
  },
  {
   "cell_type": "code",
   "execution_count": 27,
   "metadata": {},
   "outputs": [
    {
     "name": "stdout",
     "output_type": "stream",
     "text": [
      "done-1\n",
      "done-2\n"
     ]
    }
   ],
   "source": [
    "model_1 = svm.SVC(kernel = 'linear')\n",
    "model_2 = svm.SVC(kernel = 'linear')\n",
    "model_3 = svm.SVC(kernel = 'linear')\n",
    "\n",
    "model_list = [model_1, model_2, model_3]\n",
    "model_name = ['6', '9', '3']\n",
    "performance2 = [['Features', 'Accuracy', 'ROC AUC', 'Precision Macro', 'Recall Macro', 'F1 Macro', 'MSE']]\n",
    "\n",
    "new_list = stats_classification(model_1, X_6feat_final)\n",
    "new_list.insert(0, model_name[0])\n",
    "performance2.append(new_list)\n",
    "\n",
    "new_list = stats_classification(model_2, X_9feat)\n",
    "new_list.insert(0, model_name[1])\n",
    "performance2.append(new_list)\n",
    "\n",
    "new_list = stats_classification(model_3, X_3feat)\n",
    "new_list.insert(0, model_name[2])\n",
    "performance2.append(new_list)"
   ]
  },
  {
   "cell_type": "code",
   "execution_count": 29,
   "metadata": {},
   "outputs": [
    {
     "name": "stdout",
     "output_type": "stream",
     "text": [
      "          0         1        2                3             4         5  \\\n",
      "0  Features  Accuracy  ROC AUC  Precision Macro  Recall Macro  F1 Macro   \n",
      "1         6   83.8633  87.2654          86.5014       83.8633   83.5663   \n",
      "2         9   84.5333  88.2825          87.1846       84.5333   84.2525   \n",
      "3         3   84.0083  87.3879          86.7598       84.0083   83.7034   \n",
      "\n",
      "          6  \n",
      "0       MSE  \n",
      "1  0.161367  \n",
      "2  0.154667  \n",
      "3  0.159917  \n"
     ]
    }
   ],
   "source": [
    "performance2_df = pd.DataFrame(performance2)\n",
    "\n",
    "print(performance2_df)\n",
    "\n",
    "performance2_df.to_csv('Feature-performance.csv', sep=\",\", index=False, header=True)\n"
   ]
  },
  {
   "cell_type": "markdown",
   "metadata": {},
   "source": [
    "### Random Forest Test"
   ]
  },
  {
   "cell_type": "code",
   "execution_count": 37,
   "metadata": {},
   "outputs": [
    {
     "name": "stdout",
     "output_type": "stream",
     "text": [
      "[0.23791687 0.00151816 0.21301399 0.         0.40388157 0.1436694 ]\n",
      "Accuracy: 0.8568928883889514\n",
      "AUC: 0.8774879743506138\n",
      "Train MSE: 0.1499640636230118\n",
      "Test MSE: 0.1431071116110486\n"
     ]
    }
   ],
   "source": [
    "from sklearn.ensemble import RandomForestClassifier\n",
    "\n",
    "rand_forest = RandomForestClassifier(random_state=90051)\n",
    "rand_forest.fit(X_train, y_train)\n",
    "\n",
    "predict_prob = rand_forest.predict_proba(X_test)[:,1:]\n",
    "y_pred_train = rand_forest.predict(X_train)\n",
    "y_pred_test = rand_forest.predict(X_test)\n",
    "\n",
    "print(rand_forest.feature_importances_)\n",
    "print(\"Accuracy: {}\".format(metrics.accuracy_score(y_test, y_pred_test)))\n",
    "print(\"AUC: {}\".format(metrics.roc_auc_score(y_test, predict_prob)))\n",
    "print('Train MSE:', mean_squared_error(y_pred_train, y_train))\n",
    "print('Test MSE:', mean_squared_error(y_pred_test, y_test))"
   ]
  },
  {
   "cell_type": "markdown",
   "metadata": {},
   "source": [
    "### Observing Weights of Different Models"
   ]
  },
  {
   "cell_type": "code",
   "execution_count": 16,
   "metadata": {},
   "outputs": [
    {
     "name": "stdout",
     "output_type": "stream",
     "text": [
      "----- SVM -----\n",
      "Weights: [-1.00018235  0.13249002 -1.45003852 -0.62535861  0.66844795 10.68519869\n",
      " -8.18953907]\n",
      "----- Logistic Regression -----\n",
      "Weights: [-1.22032636  0.12081511 -1.31380812 -0.38714932  0.50128681  9.43641152\n",
      " -3.20296236]\n",
      "----- Random Forest -----\n",
      "Weights: [0.20474815 0.00523881 0.17697839 0.0008182  0.39673105 0.2154854 ]\n",
      "----- Linear Regression -----\n",
      "Weights: [ 4.08012199e-01  5.24310463e-03 -2.76687286e-04  8.37344507e-04\n",
      " -2.08289480e-03  5.91402630e-04  5.36455404e+00]\n"
     ]
    }
   ],
   "source": [
    "from sklearn.ensemble import RandomForestClassifier\n",
    "from sklearn import svm\n",
    "\n",
    "def print_w (clf) :\n",
    "    try :\n",
    "        w_sklearn = np.r_[clf.intercept_, clf.coef_.squeeze()]\n",
    "    except :\n",
    "        w_sklearn = clf.feature_importances_\n",
    "    print(\"Weights: {}\".format(w_sklearn))\n",
    "\n",
    "model_1 = LogisticRegression()\n",
    "model_2 = RandomForestClassifier(random_state=90051)\n",
    "model_3 = svm.SVC(kernel = 'linear')\n",
    "model_4 = LinearRegression()\n",
    "\n",
    "model_list = [model_3, model_1, model_2, model_4]\n",
    "model_name = ['SVM', 'Logistic Regression', 'Random Forest', 'Linear Regression']\n",
    "\n",
    "for i, model in enumerate(model_list) :\n",
    "    model.fit(X_common_JC_ad, y)\n",
    "    print(\"-----\", model_name[i], \"-----\")\n",
    "    print_w(model)\n",
    "\n",
    "    "
   ]
  },
  {
   "cell_type": "markdown",
   "metadata": {},
   "source": [
    "### Observing Weights when features are normalised"
   ]
  },
  {
   "cell_type": "code",
   "execution_count": 19,
   "metadata": {},
   "outputs": [
    {
     "name": "stdout",
     "output_type": "stream",
     "text": [
      "----- Logistic Regression with L2 reg -----\n",
      "Weights: [-1.22032636  0.12081511 -1.31380812 -0.38714932  0.50128681  9.43641152\n",
      " -3.20296236]\n",
      "----- Logistic Regression without L2 reg -----\n",
      "Weights: [  -1.20925769   -0.12216648   -2.10523217   -0.7258134     1.18281419\n",
      "   15.88603572 -119.02839379]\n"
     ]
    }
   ],
   "source": [
    "from sklearn.preprocessing import StandardScaler\n",
    "\n",
    "scaler = StandardScaler()\n",
    "X_trans = scaler.fit_transform(X_all)\n",
    "\n",
    "model_1 = LogisticRegression()\n",
    "model_5 = LogisticRegression(penalty = 'none')\n",
    "\n",
    "model_list = [model_1, model_5]\n",
    "model_name = ['Logistic Regression with L2 reg', 'Logistic Regression without L2 reg']\n",
    "\n",
    "for i, model in enumerate(model_list) :\n",
    "    model.fit(X_common_JC_ad, y)\n",
    "    print(\"-----\", model_name[i], \"-----\")\n",
    "    print_w(model)"
   ]
  }
 ],
 "metadata": {
  "kernelspec": {
   "display_name": "Python 3",
   "language": "python",
   "name": "python3"
  },
  "language_info": {
   "codemirror_mode": {
    "name": "ipython",
    "version": 3
   },
   "file_extension": ".py",
   "mimetype": "text/x-python",
   "name": "python",
   "nbconvert_exporter": "python",
   "pygments_lexer": "ipython3",
   "version": "3.7.7"
  }
 },
 "nbformat": 4,
 "nbformat_minor": 4
}
